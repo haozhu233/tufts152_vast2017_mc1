{
 "cells": [
  {
   "cell_type": "code",
   "execution_count": 1,
   "id": "7dddbbaa-1836-43b9-a114-5d0efcd5d44b",
   "metadata": {},
   "outputs": [],
   "source": [
    "import pandas as pd\n",
    "import json"
   ]
  },
  {
   "cell_type": "code",
   "execution_count": 2,
   "id": "a79d5576-8bca-47b2-9aab-5232fb15bd8a",
   "metadata": {},
   "outputs": [],
   "source": [
    "dt = pd.read_json(\"dtlite.json\")"
   ]
  },
  {
   "cell_type": "code",
   "execution_count": 24,
   "id": "da5ef5d0-572b-4965-afda-d41b49c30fa2",
   "metadata": {},
   "outputs": [],
   "source": [
    "dt_g = dt.groupby([\"i\", \"v\"])['g'].apply(list).to_dict()\n",
    "dt_t = dt.groupby([\"i\", \"v\"])['t'].apply(list).to_dict()\n",
    "\n",
    "dt_dict = {}\n",
    "\n",
    "for (i, v) in dt_g.keys():\n",
    "#     dt_dict[i + '-' + str(v)] = {\"g\": dt_g[(i, v)], \"t\": dt_t[(i, v)]}\n",
    "    dt_dict[i+ '-' + str(v)] = [{\"g\": g, \"t\": t} for g, t in zip(dt_g[(i, v)], dt_t[(i, v)])]"
   ]
  },
  {
   "cell_type": "code",
   "execution_count": 25,
   "id": "91b5b749-c674-4692-aeb8-3a5b8ebc9cff",
   "metadata": {},
   "outputs": [],
   "source": [
    "with open(\"dt_dict.json\", \"w\") as f:\n",
    "    f.writelines(json.dumps(dt_dict))"
   ]
  },
  {
   "cell_type": "code",
   "execution_count": 14,
   "id": "99c0ccd1-7139-4bad-8ecc-b263c902d815",
   "metadata": {},
   "outputs": [],
   "source": [
    "dt_time = dt.groupby([\"i\", \"v\"]).head(1).reset_index()"
   ]
  },
  {
   "cell_type": "code",
   "execution_count": 21,
   "id": "29d36adb-bb66-4009-a523-3543016ae519",
   "metadata": {},
   "outputs": [],
   "source": [
    "dt_time_dict = {}\n",
    "for i in range(dt_time.shape[0]):\n",
    "    if dt_time[\"i\"][i] not in dt_time_dict:\n",
    "        dt_time_dict[dt_time[\"i\"][i]] = list()\n",
    "    dt_time_dict[dt_time[\"i\"][i]].append({\"v\": str(dt_time[\"v\"][i]), \"t\": dt_time[\"t\"][i]})\n",
    "    "
   ]
  },
  {
   "cell_type": "code",
   "execution_count": 23,
   "id": "c75b57f3-05d0-4853-9355-7af64d5505b2",
   "metadata": {},
   "outputs": [],
   "source": [
    "with open(\"dt_time_dict.json\", \"w\") as f:\n",
    "    f.writelines(json.dumps(dt_time_dict))"
   ]
  },
  {
   "cell_type": "code",
   "execution_count": null,
   "id": "f248eaad-5f04-426c-be59-8b90c6b4d0c0",
   "metadata": {},
   "outputs": [],
   "source": []
  }
 ],
 "metadata": {
  "kernelspec": {
   "display_name": "Python 3",
   "language": "python",
   "name": "python3"
  },
  "language_info": {
   "codemirror_mode": {
    "name": "ipython",
    "version": 3
   },
   "file_extension": ".py",
   "mimetype": "text/x-python",
   "name": "python",
   "nbconvert_exporter": "python",
   "pygments_lexer": "ipython3",
   "version": "3.8.8"
  }
 },
 "nbformat": 4,
 "nbformat_minor": 5
}
