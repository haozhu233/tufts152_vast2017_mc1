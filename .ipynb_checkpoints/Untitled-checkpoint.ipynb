{
 "cells": [
  {
   "cell_type": "code",
   "execution_count": 1,
   "id": "7dddbbaa-1836-43b9-a114-5d0efcd5d44b",
   "metadata": {},
   "outputs": [],
   "source": [
    "import pandas as pd\n",
    "import json"
   ]
  },
  {
   "cell_type": "code",
   "execution_count": 23,
   "id": "c5969cc2-6c5a-4011-b74f-ccd320c1713e",
   "metadata": {},
   "outputs": [],
   "source": [
    "dt = pd.read_json(\"per_car3.json\")"
   ]
  },
  {
   "cell_type": "code",
   "execution_count": 28,
   "id": "62a227b3-14ad-4537-b3c7-610f43883a3d",
   "metadata": {},
   "outputs": [
    {
     "data": {
      "text/html": [
       "<div>\n",
       "<style scoped>\n",
       "    .dataframe tbody tr th:only-of-type {\n",
       "        vertical-align: middle;\n",
       "    }\n",
       "\n",
       "    .dataframe tbody tr th {\n",
       "        vertical-align: top;\n",
       "    }\n",
       "\n",
       "    .dataframe thead th {\n",
       "        text-align: right;\n",
       "    }\n",
       "</style>\n",
       "<table border=\"1\" class=\"dataframe\">\n",
       "  <thead>\n",
       "    <tr style=\"text-align: right;\">\n",
       "      <th></th>\n",
       "      <th>tp</th>\n",
       "      <th>id</th>\n",
       "      <th>v</th>\n",
       "      <th>d</th>\n",
       "      <th>ts</th>\n",
       "      <th>gg</th>\n",
       "      <th>rs</th>\n",
       "      <th>c</th>\n",
       "      <th>rb</th>\n",
       "      <th>g</th>\n",
       "      <th>x</th>\n",
       "      <th>y</th>\n",
       "    </tr>\n",
       "  </thead>\n",
       "  <tbody>\n",
       "    <tr>\n",
       "      <th>0</th>\n",
       "      <td>2P</td>\n",
       "      <td>20160118020119-534</td>\n",
       "      <td>1</td>\n",
       "      <td>2.1</td>\n",
       "      <td>19</td>\n",
       "      <td>2</td>\n",
       "      <td>6</td>\n",
       "      <td>1</td>\n",
       "      <td>2</td>\n",
       "      <td>8</td>\n",
       "      <td>-12.01</td>\n",
       "      <td>-11.46</td>\n",
       "    </tr>\n",
       "    <tr>\n",
       "      <th>1</th>\n",
       "      <td>2P</td>\n",
       "      <td>20155603045616-730</td>\n",
       "      <td>1</td>\n",
       "      <td>2.9</td>\n",
       "      <td>20</td>\n",
       "      <td>2</td>\n",
       "      <td>6</td>\n",
       "      <td>0</td>\n",
       "      <td>2</td>\n",
       "      <td>10</td>\n",
       "      <td>-24.93</td>\n",
       "      <td>3.06</td>\n",
       "    </tr>\n",
       "    <tr>\n",
       "      <th>2</th>\n",
       "      <td>2P</td>\n",
       "      <td>20150421010452-980</td>\n",
       "      <td>1</td>\n",
       "      <td>7.0</td>\n",
       "      <td>49</td>\n",
       "      <td>13</td>\n",
       "      <td>19</td>\n",
       "      <td>1</td>\n",
       "      <td>2</td>\n",
       "      <td>14</td>\n",
       "      <td>-51.92</td>\n",
       "      <td>-32.04</td>\n",
       "    </tr>\n",
       "    <tr>\n",
       "      <th>3</th>\n",
       "      <td>2P</td>\n",
       "      <td>20152621082611-901</td>\n",
       "      <td>1</td>\n",
       "      <td>2.9</td>\n",
       "      <td>19</td>\n",
       "      <td>3</td>\n",
       "      <td>6</td>\n",
       "      <td>0</td>\n",
       "      <td>2</td>\n",
       "      <td>8</td>\n",
       "      <td>-14.04</td>\n",
       "      <td>-5.74</td>\n",
       "    </tr>\n",
       "    <tr>\n",
       "      <th>4</th>\n",
       "      <td>2P</td>\n",
       "      <td>20155515095548-2</td>\n",
       "      <td>1</td>\n",
       "      <td>3.9</td>\n",
       "      <td>20</td>\n",
       "      <td>2</td>\n",
       "      <td>4</td>\n",
       "      <td>4</td>\n",
       "      <td>2</td>\n",
       "      <td>8</td>\n",
       "      <td>-10.16</td>\n",
       "      <td>-7.02</td>\n",
       "    </tr>\n",
       "    <tr>\n",
       "      <th>...</th>\n",
       "      <td>...</td>\n",
       "      <td>...</td>\n",
       "      <td>...</td>\n",
       "      <td>...</td>\n",
       "      <td>...</td>\n",
       "      <td>...</td>\n",
       "      <td>...</td>\n",
       "      <td>...</td>\n",
       "      <td>...</td>\n",
       "      <td>...</td>\n",
       "      <td>...</td>\n",
       "      <td>...</td>\n",
       "    </tr>\n",
       "    <tr>\n",
       "      <th>18703</th>\n",
       "      <td>2</td>\n",
       "      <td>20154512084511-218</td>\n",
       "      <td>1</td>\n",
       "      <td>127.8</td>\n",
       "      <td>11</td>\n",
       "      <td>5</td>\n",
       "      <td>2</td>\n",
       "      <td>2</td>\n",
       "      <td>0</td>\n",
       "      <td>0</td>\n",
       "      <td>9.89</td>\n",
       "      <td>-65.14</td>\n",
       "    </tr>\n",
       "    <tr>\n",
       "      <th>18704</th>\n",
       "      <td>1</td>\n",
       "      <td>20164728034754-277</td>\n",
       "      <td>1</td>\n",
       "      <td>1.1</td>\n",
       "      <td>7</td>\n",
       "      <td>3</td>\n",
       "      <td>0</td>\n",
       "      <td>2</td>\n",
       "      <td>0</td>\n",
       "      <td>0</td>\n",
       "      <td>21.25</td>\n",
       "      <td>-21.73</td>\n",
       "    </tr>\n",
       "    <tr>\n",
       "      <th>18705</th>\n",
       "      <td>3</td>\n",
       "      <td>20153610123659-887</td>\n",
       "      <td>1</td>\n",
       "      <td>20.0</td>\n",
       "      <td>16</td>\n",
       "      <td>8</td>\n",
       "      <td>4</td>\n",
       "      <td>2</td>\n",
       "      <td>0</td>\n",
       "      <td>0</td>\n",
       "      <td>-42.65</td>\n",
       "      <td>-44.12</td>\n",
       "    </tr>\n",
       "    <tr>\n",
       "      <th>18706</th>\n",
       "      <td>4</td>\n",
       "      <td>20150428020445-289</td>\n",
       "      <td>1</td>\n",
       "      <td>0.6</td>\n",
       "      <td>4</td>\n",
       "      <td>2</td>\n",
       "      <td>0</td>\n",
       "      <td>0</td>\n",
       "      <td>0</td>\n",
       "      <td>0</td>\n",
       "      <td>-3.14</td>\n",
       "      <td>-44.45</td>\n",
       "    </tr>\n",
       "    <tr>\n",
       "      <th>18707</th>\n",
       "      <td>1</td>\n",
       "      <td>20154003074025-33</td>\n",
       "      <td>1</td>\n",
       "      <td>0.9</td>\n",
       "      <td>9</td>\n",
       "      <td>3</td>\n",
       "      <td>2</td>\n",
       "      <td>2</td>\n",
       "      <td>0</td>\n",
       "      <td>0</td>\n",
       "      <td>-40.05</td>\n",
       "      <td>0.68</td>\n",
       "    </tr>\n",
       "  </tbody>\n",
       "</table>\n",
       "<p>18708 rows × 12 columns</p>\n",
       "</div>"
      ],
      "text/plain": [
       "       tp                  id  v      d  ts  gg  rs  c  rb   g      x      y\n",
       "0      2P  20160118020119-534  1    2.1  19   2   6  1   2   8 -12.01 -11.46\n",
       "1      2P  20155603045616-730  1    2.9  20   2   6  0   2  10 -24.93   3.06\n",
       "2      2P  20150421010452-980  1    7.0  49  13  19  1   2  14 -51.92 -32.04\n",
       "3      2P  20152621082611-901  1    2.9  19   3   6  0   2   8 -14.04  -5.74\n",
       "4      2P    20155515095548-2  1    3.9  20   2   4  4   2   8 -10.16  -7.02\n",
       "...    ..                 ... ..    ...  ..  ..  .. ..  ..  ..    ...    ...\n",
       "18703   2  20154512084511-218  1  127.8  11   5   2  2   0   0   9.89 -65.14\n",
       "18704   1  20164728034754-277  1    1.1   7   3   0  2   0   0  21.25 -21.73\n",
       "18705   3  20153610123659-887  1   20.0  16   8   4  2   0   0 -42.65 -44.12\n",
       "18706   4  20150428020445-289  1    0.6   4   2   0  0   0   0  -3.14 -44.45\n",
       "18707   1   20154003074025-33  1    0.9   9   3   2  2   0   0 -40.05   0.68\n",
       "\n",
       "[18708 rows x 12 columns]"
      ]
     },
     "execution_count": 28,
     "metadata": {},
     "output_type": "execute_result"
    }
   ],
   "source": [
    "dt"
   ]
  },
  {
   "cell_type": "code",
   "execution_count": 66,
   "id": "59b1fc41-565b-4ae3-9844-f8c52ef3133f",
   "metadata": {},
   "outputs": [],
   "source": [
    "passby = dt[dt.id.isin(['20161921071913-653', '20165522125532-244', '20154814054852-53'])][['id', 'tp', 'x', 'y']]"
   ]
  },
  {
   "cell_type": "code",
   "execution_count": 72,
   "id": "bf39b97b-6d4c-43c7-b5c7-027de727c53a",
   "metadata": {},
   "outputs": [
    {
     "data": {
      "text/html": [
       "<div>\n",
       "<style scoped>\n",
       "    .dataframe tbody tr th:only-of-type {\n",
       "        vertical-align: middle;\n",
       "    }\n",
       "\n",
       "    .dataframe tbody tr th {\n",
       "        vertical-align: top;\n",
       "    }\n",
       "\n",
       "    .dataframe thead th {\n",
       "        text-align: right;\n",
       "    }\n",
       "</style>\n",
       "<table border=\"1\" class=\"dataframe\">\n",
       "  <thead>\n",
       "    <tr style=\"text-align: right;\">\n",
       "      <th></th>\n",
       "      <th>id</th>\n",
       "      <th>tp</th>\n",
       "      <th>x</th>\n",
       "      <th>y</th>\n",
       "      <th>lbl</th>\n",
       "      <th>lx</th>\n",
       "      <th>ly</th>\n",
       "    </tr>\n",
       "  </thead>\n",
       "  <tbody>\n",
       "    <tr>\n",
       "      <th>18057</th>\n",
       "      <td>20161921071913-653</td>\n",
       "      <td>1</td>\n",
       "      <td>-36.37</td>\n",
       "      <td>47.36</td>\n",
       "      <td>A</td>\n",
       "      <td>-36.0</td>\n",
       "      <td>37.0</td>\n",
       "    </tr>\n",
       "    <tr>\n",
       "      <th>18232</th>\n",
       "      <td>20165522125532-244</td>\n",
       "      <td>1</td>\n",
       "      <td>-10.60</td>\n",
       "      <td>49.30</td>\n",
       "      <td>B</td>\n",
       "      <td>-5.0</td>\n",
       "      <td>-45.0</td>\n",
       "    </tr>\n",
       "    <tr>\n",
       "      <th>12630</th>\n",
       "      <td>20154814054852-53</td>\n",
       "      <td>3</td>\n",
       "      <td>10.80</td>\n",
       "      <td>69.42</td>\n",
       "      <td>C</td>\n",
       "      <td>20.0</td>\n",
       "      <td>-69.0</td>\n",
       "    </tr>\n",
       "  </tbody>\n",
       "</table>\n",
       "</div>"
      ],
      "text/plain": [
       "                       id tp      x      y lbl    lx    ly\n",
       "18057  20161921071913-653  1 -36.37  47.36   A -36.0  37.0\n",
       "18232  20165522125532-244  1 -10.60  49.30   B  -5.0 -45.0\n",
       "12630   20154814054852-53  3  10.80  69.42   C  20.0 -69.0"
      ]
     },
     "execution_count": 72,
     "metadata": {},
     "output_type": "execute_result"
    }
   ],
   "source": [
    "passby"
   ]
  },
  {
   "cell_type": "code",
   "execution_count": 68,
   "id": "e8564b23-d625-48eb-974f-b94b7f309d31",
   "metadata": {},
   "outputs": [],
   "source": [
    "passby = passby.reindex([18057, 18232, 12630])"
   ]
  },
  {
   "cell_type": "code",
   "execution_count": 73,
   "id": "6889c793-3a54-49d6-a948-2949a65db75b",
   "metadata": {},
   "outputs": [],
   "source": [
    "passby['lbl'] = [\"A\", \"B\", \"C\"]\n",
    "passby['lx'] = [-36.0, -5.0, 20.0]\n",
    "passby['ly'] = [37.0, 45.0, 69.0]"
   ]
  },
  {
   "cell_type": "code",
   "execution_count": 74,
   "id": "5e90b4e3-0d7e-4e64-b34a-fa113e73e8f8",
   "metadata": {},
   "outputs": [
    {
     "data": {
      "text/plain": [
       "'[{\"id\":\"20161921071913-653\",\"tp\":\"1\",\"x\":-36.37,\"y\":47.36,\"lbl\":\"A\",\"lx\":-36.0,\"ly\":37.0},{\"id\":\"20165522125532-244\",\"tp\":\"1\",\"x\":-10.6,\"y\":49.3,\"lbl\":\"B\",\"lx\":-5.0,\"ly\":45.0},{\"id\":\"20154814054852-53\",\"tp\":\"3\",\"x\":10.8,\"y\":69.42,\"lbl\":\"C\",\"lx\":20.0,\"ly\":69.0}]'"
      ]
     },
     "execution_count": 74,
     "metadata": {},
     "output_type": "execute_result"
    }
   ],
   "source": [
    "passby.to_json(orient = \"records\")"
   ]
  },
  {
   "cell_type": "code",
   "execution_count": 79,
   "id": "3a6f3160-6b0e-4ce2-9abc-6efa96a75e28",
   "metadata": {},
   "outputs": [],
   "source": [
    "dayvisitor = dt[dt.id.isin(['20164728034754-277', '20150505080542-405', '20150328090306-30'])][['id', 'tp', 'x', 'y']]"
   ]
  },
  {
   "cell_type": "code",
   "execution_count": 81,
   "id": "46ecc429-ee6e-4466-af06-c348d3d79a9f",
   "metadata": {},
   "outputs": [],
   "source": [
    "dayvisitor = dayvisitor.reindex([18704, 16836, 17898])"
   ]
  },
  {
   "cell_type": "code",
   "execution_count": 82,
   "id": "38f59210-edc0-4a84-9b7f-825a0c617059",
   "metadata": {},
   "outputs": [
    {
     "data": {
      "text/plain": [
       "'[{\"id\":\"20164728034754-277\",\"tp\":\"1\",\"x\":21.25,\"y\":-21.73,\"lbl\":\"A\",\"lx\":22.41,\"ly\":-30.0},{\"id\":\"20150505080542-405\",\"tp\":\"1\",\"x\":8.84,\"y\":0.22,\"lbl\":\"B\",\"lx\":10.0,\"ly\":-5.0},{\"id\":\"20150328090306-30\",\"tp\":\"1\",\"x\":6.34,\"y\":0.19,\"lbl\":\"C\",\"lx\":7.0,\"ly\":-8.0}]'"
      ]
     },
     "execution_count": 82,
     "metadata": {},
     "output_type": "execute_result"
    }
   ],
   "source": [
    "dayvisitor['lbl'] = [\"A\", \"B\", \"C\"]\n",
    "dayvisitor['lx'] = [22.41, 10.0, 7.0]\n",
    "dayvisitor['ly'] = [-30.0, -5.0, -8.0]\n",
    "dayvisitor.to_json(orient = \"records\")"
   ]
  },
  {
   "cell_type": "code",
   "execution_count": null,
   "id": "5e68f917-cb8f-4c0a-ad6c-25c84febd0e2",
   "metadata": {},
   "outputs": [],
   "source": [
    "20154917054928-183"
   ]
  },
  {
   "cell_type": "code",
   "execution_count": 85,
   "id": "4fbe0153-81d3-4e7b-a2aa-6d35d1dba52d",
   "metadata": {},
   "outputs": [],
   "source": [
    "weekendcamper = dt[dt.id.isin(['20152610112615-740', '20153021073045-85', '20151624101641-279'])][['id', 'tp', 'x', 'y']]"
   ]
  },
  {
   "cell_type": "code",
   "execution_count": 86,
   "id": "b1cf87ae-5959-4b28-b006-dcc4997ae060",
   "metadata": {},
   "outputs": [
    {
     "data": {
      "text/html": [
       "<div>\n",
       "<style scoped>\n",
       "    .dataframe tbody tr th:only-of-type {\n",
       "        vertical-align: middle;\n",
       "    }\n",
       "\n",
       "    .dataframe tbody tr th {\n",
       "        vertical-align: top;\n",
       "    }\n",
       "\n",
       "    .dataframe thead th {\n",
       "        text-align: right;\n",
       "    }\n",
       "</style>\n",
       "<table border=\"1\" class=\"dataframe\">\n",
       "  <thead>\n",
       "    <tr style=\"text-align: right;\">\n",
       "      <th></th>\n",
       "      <th>id</th>\n",
       "      <th>tp</th>\n",
       "      <th>x</th>\n",
       "      <th>y</th>\n",
       "    </tr>\n",
       "  </thead>\n",
       "  <tbody>\n",
       "    <tr>\n",
       "      <th>16202</th>\n",
       "      <td>20155313065344-641</td>\n",
       "      <td>1</td>\n",
       "      <td>-67.78</td>\n",
       "      <td>21.97</td>\n",
       "    </tr>\n",
       "    <tr>\n",
       "      <th>16952</th>\n",
       "      <td>20151624101641-279</td>\n",
       "      <td>3</td>\n",
       "      <td>-61.92</td>\n",
       "      <td>29.72</td>\n",
       "    </tr>\n",
       "    <tr>\n",
       "      <th>18586</th>\n",
       "      <td>20152610112615-740</td>\n",
       "      <td>1</td>\n",
       "      <td>-66.23</td>\n",
       "      <td>7.44</td>\n",
       "    </tr>\n",
       "  </tbody>\n",
       "</table>\n",
       "</div>"
      ],
      "text/plain": [
       "                       id tp      x      y\n",
       "16202  20155313065344-641  1 -67.78  21.97\n",
       "16952  20151624101641-279  3 -61.92  29.72\n",
       "18586  20152610112615-740  1 -66.23   7.44"
      ]
     },
     "execution_count": 86,
     "metadata": {},
     "output_type": "execute_result"
    }
   ],
   "source": [
    "weekendcamper"
   ]
  },
  {
   "cell_type": "code",
   "execution_count": 87,
   "id": "e07e7f21-9bb9-4e94-a27f-16a7acc244b0",
   "metadata": {},
   "outputs": [],
   "source": [
    "weekendcamper = weekendcamper.reindex([18586, 16202, 16952])"
   ]
  },
  {
   "cell_type": "code",
   "execution_count": 88,
   "id": "c542af8a-435a-4927-8293-b2e7a31d987a",
   "metadata": {},
   "outputs": [
    {
     "data": {
      "text/plain": [
       "'[{\"id\":\"20152610112615-740\",\"tp\":\"1\",\"x\":-66.23,\"y\":7.44,\"lbl\":\"A\",\"lx\":-73.23,\"ly\":7.44},{\"id\":\"20155313065344-641\",\"tp\":\"1\",\"x\":-67.78,\"y\":21.97,\"lbl\":\"B\",\"lx\":-74.78,\"ly\":21.97},{\"id\":\"20151624101641-279\",\"tp\":\"3\",\"x\":-61.92,\"y\":29.72,\"lbl\":\"C\",\"lx\":-68.92,\"ly\":29.72}]'"
      ]
     },
     "execution_count": 88,
     "metadata": {},
     "output_type": "execute_result"
    }
   ],
   "source": [
    "weekendcamper['lbl'] = [\"A\", \"B\", \"C\"]\n",
    "weekendcamper['lx'] = weekendcamper['x'] - 7\n",
    "weekendcamper['ly'] = weekendcamper['y']\n",
    "weekendcamper.to_json(orient = \"records\")"
   ]
  },
  {
   "cell_type": "code",
   "execution_count": 85,
   "id": "65936e57-7e46-4bc6-8d2d-b8865a2aa52e",
   "metadata": {},
   "outputs": [],
   "source": [
    "longcamper = dt[dt.id.isin(['20154826044849-501', '20155313065344-641', '20151624101641-279'])][['id', 'tp', 'x', 'y']]"
   ]
  },
  {
   "cell_type": "code",
   "execution_count": 86,
   "id": "7063b65f-be18-444e-acf7-1fb7a289f13f",
   "metadata": {},
   "outputs": [
    {
     "data": {
      "text/html": [
       "<div>\n",
       "<style scoped>\n",
       "    .dataframe tbody tr th:only-of-type {\n",
       "        vertical-align: middle;\n",
       "    }\n",
       "\n",
       "    .dataframe tbody tr th {\n",
       "        vertical-align: top;\n",
       "    }\n",
       "\n",
       "    .dataframe thead th {\n",
       "        text-align: right;\n",
       "    }\n",
       "</style>\n",
       "<table border=\"1\" class=\"dataframe\">\n",
       "  <thead>\n",
       "    <tr style=\"text-align: right;\">\n",
       "      <th></th>\n",
       "      <th>id</th>\n",
       "      <th>tp</th>\n",
       "      <th>x</th>\n",
       "      <th>y</th>\n",
       "    </tr>\n",
       "  </thead>\n",
       "  <tbody>\n",
       "    <tr>\n",
       "      <th>16202</th>\n",
       "      <td>20155313065344-641</td>\n",
       "      <td>1</td>\n",
       "      <td>-67.78</td>\n",
       "      <td>21.97</td>\n",
       "    </tr>\n",
       "    <tr>\n",
       "      <th>16952</th>\n",
       "      <td>20151624101641-279</td>\n",
       "      <td>3</td>\n",
       "      <td>-61.92</td>\n",
       "      <td>29.72</td>\n",
       "    </tr>\n",
       "    <tr>\n",
       "      <th>18586</th>\n",
       "      <td>20152610112615-740</td>\n",
       "      <td>1</td>\n",
       "      <td>-66.23</td>\n",
       "      <td>7.44</td>\n",
       "    </tr>\n",
       "  </tbody>\n",
       "</table>\n",
       "</div>"
      ],
      "text/plain": [
       "                       id tp      x      y\n",
       "16202  20155313065344-641  1 -67.78  21.97\n",
       "16952  20151624101641-279  3 -61.92  29.72\n",
       "18586  20152610112615-740  1 -66.23   7.44"
      ]
     },
     "execution_count": 86,
     "metadata": {},
     "output_type": "execute_result"
    }
   ],
   "source": [
    "weekendcamper"
   ]
  },
  {
   "cell_type": "code",
   "execution_count": 87,
   "id": "d358108e-4069-4b13-889a-56ae175b29f6",
   "metadata": {},
   "outputs": [],
   "source": [
    "weekendcamper = weekendcamper.reindex([18586, 16202, 16952])"
   ]
  },
  {
   "cell_type": "code",
   "execution_count": 88,
   "id": "550a20ba-85d1-455e-8cfa-a53a0f426747",
   "metadata": {},
   "outputs": [
    {
     "data": {
      "text/plain": [
       "'[{\"id\":\"20152610112615-740\",\"tp\":\"1\",\"x\":-66.23,\"y\":7.44,\"lbl\":\"A\",\"lx\":-73.23,\"ly\":7.44},{\"id\":\"20155313065344-641\",\"tp\":\"1\",\"x\":-67.78,\"y\":21.97,\"lbl\":\"B\",\"lx\":-74.78,\"ly\":21.97},{\"id\":\"20151624101641-279\",\"tp\":\"3\",\"x\":-61.92,\"y\":29.72,\"lbl\":\"C\",\"lx\":-68.92,\"ly\":29.72}]'"
      ]
     },
     "execution_count": 88,
     "metadata": {},
     "output_type": "execute_result"
    }
   ],
   "source": [
    "weekendcamper['lbl'] = [\"A\", \"B\", \"C\"]\n",
    "weekendcamper['lx'] = weekendcamper['x'] - 7\n",
    "weekendcamper['ly'] = weekendcamper['y']\n",
    "weekendcamper.to_json(orient = \"records\")"
   ]
  },
  {
   "cell_type": "code",
   "execution_count": null,
   "id": "35d30a62-dbdf-4cd6-9b77-6efb8e3345bd",
   "metadata": {},
   "outputs": [],
   "source": []
  },
  {
   "cell_type": "code",
   "execution_count": null,
   "id": "3793c579-216f-4643-900f-86bd9b9a65f1",
   "metadata": {},
   "outputs": [],
   "source": []
  },
  {
   "cell_type": "code",
   "execution_count": null,
   "id": "a8b84a8d-719c-4bc5-86a2-f66767310649",
   "metadata": {},
   "outputs": [],
   "source": []
  },
  {
   "cell_type": "code",
   "execution_count": 26,
   "id": "a79d5576-8bca-47b2-9aab-5232fb15bd8a",
   "metadata": {},
   "outputs": [],
   "source": [
    "dt = pd.read_json(\"dtlite.json\")"
   ]
  },
  {
   "cell_type": "code",
   "execution_count": 27,
   "id": "da5ef5d0-572b-4965-afda-d41b49c30fa2",
   "metadata": {},
   "outputs": [],
   "source": [
    "dt_g = dt.groupby([\"i\", \"v\"])['g'].apply(list).to_dict()\n",
    "dt_t = dt.groupby([\"i\", \"v\"])['t'].apply(list).to_dict()\n",
    "\n",
    "dt_dict = {}\n",
    "\n",
    "for (i, v) in dt_g.keys():\n",
    "#     dt_dict[i + '-' + str(v)] = {\"g\": dt_g[(i, v)], \"t\": dt_t[(i, v)]}\n",
    "    dt_dict[i+ '-' + str(v)] = [{\"g\": g, \"t\": t} for g, t in zip(dt_g[(i, v)], dt_t[(i, v)])]"
   ]
  },
  {
   "cell_type": "code",
   "execution_count": 28,
   "id": "91b5b749-c674-4692-aeb8-3a5b8ebc9cff",
   "metadata": {},
   "outputs": [],
   "source": [
    "with open(\"dt_dict.json\", \"w\") as f:\n",
    "    f.writelines(json.dumps(dt_dict))"
   ]
  },
  {
   "cell_type": "code",
   "execution_count": 14,
   "id": "99c0ccd1-7139-4bad-8ecc-b263c902d815",
   "metadata": {},
   "outputs": [],
   "source": [
    "dt_time = dt.groupby([\"i\", \"v\"]).head(1).reset_index()"
   ]
  },
  {
   "cell_type": "code",
   "execution_count": 21,
   "id": "29d36adb-bb66-4009-a523-3543016ae519",
   "metadata": {},
   "outputs": [],
   "source": [
    "dt_time_dict = {}\n",
    "for i in range(dt_time.shape[0]):\n",
    "    if dt_time[\"i\"][i] not in dt_time_dict:\n",
    "        dt_time_dict[dt_time[\"i\"][i]] = list()\n",
    "    dt_time_dict[dt_time[\"i\"][i]].append({\"v\": str(dt_time[\"v\"][i]), \"t\": dt_time[\"t\"][i]})\n",
    "    "
   ]
  },
  {
   "cell_type": "code",
   "execution_count": 23,
   "id": "c75b57f3-05d0-4853-9355-7af64d5505b2",
   "metadata": {},
   "outputs": [],
   "source": [
    "with open(\"dt_time_dict.json\", \"w\") as f:\n",
    "    f.writelines(json.dumps(dt_time_dict))"
   ]
  },
  {
   "cell_type": "code",
   "execution_count": null,
   "id": "f248eaad-5f04-426c-be59-8b90c6b4d0c0",
   "metadata": {},
   "outputs": [],
   "source": []
  }
 ],
 "metadata": {
  "kernelspec": {
   "display_name": "Python 3",
   "language": "python",
   "name": "python3"
  },
  "language_info": {
   "codemirror_mode": {
    "name": "ipython",
    "version": 3
   },
   "file_extension": ".py",
   "mimetype": "text/x-python",
   "name": "python",
   "nbconvert_exporter": "python",
   "pygments_lexer": "ipython3",
   "version": "3.8.8"
  }
 },
 "nbformat": 4,
 "nbformat_minor": 5
}
